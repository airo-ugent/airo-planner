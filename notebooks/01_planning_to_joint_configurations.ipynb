{
 "cells": [
  {
   "cell_type": "markdown",
   "metadata": {},
   "source": [
    "# Planning to Joint Configurations 🦾\n",
    "\n",
    "In this notebook we show how you can setup a planner to find collision-free joint paths for a robot between any two joints configurations."
   ]
  },
  {
   "cell_type": "markdown",
   "metadata": {},
   "source": [
    "## 1. Setting up the scene & collision checker 🏗️️\n",
    "\n",
    "For more details about this, see the [`airo-drake`](https://github.com/airo-ugent/airo-drake) notebooks.\n"
   ]
  },
  {
   "cell_type": "code",
   "execution_count": null,
   "metadata": {},
   "outputs": [],
   "source": [
    "import numpy as np\n",
    "from pydrake.planning import RobotDiagramBuilder\n",
    "from airo_drake import SingleArmScene, add_floor, add_manipulator, add_meshcat, finish_build\n",
    "from pydrake.planning import SceneGraphCollisionChecker\n",
    "\n",
    "robot_diagram_builder = RobotDiagramBuilder()\n",
    "\n",
    "meshcat = add_meshcat(robot_diagram_builder)\n",
    "arm_index, gripper_index = add_manipulator(robot_diagram_builder, \"ur3e\", \"robotiq_2f_85\", static_gripper=True)\n",
    "add_floor(robot_diagram_builder)\n",
    "robot_diagram, context = finish_build(robot_diagram_builder)\n",
    "\n",
    "scene = SingleArmScene(robot_diagram, arm_index, gripper_index, meshcat)\n",
    "\n",
    "\n",
    "collision_checker = SceneGraphCollisionChecker(\n",
    "    model=scene.robot_diagram,\n",
    "    robot_model_instances=[scene.arm_index, scene.gripper_index],\n",
    "    edge_step_size=0.125,  # Arbitrary value: we don't use the CheckEdgeCollisionFree\n",
    "    env_collision_padding=0.005,\n",
    "    self_collision_padding=0.005,\n",
    ")\n",
    "\n",
    "collision_checker.CheckConfigCollisionFree(np.zeros(6))"
   ]
  },
  {
   "cell_type": "markdown",
   "metadata": {},
   "source": [
    "## 2. Creating the motion planner 🧭"
   ]
  },
  {
   "cell_type": "code",
   "execution_count": null,
   "metadata": {},
   "outputs": [],
   "source": [
    "from airo_planner import SingleArmOmplPlanner\n",
    "\n",
    "\n",
    "planner = SingleArmOmplPlanner(collision_checker.CheckConfigCollisionFree)"
   ]
  },
  {
   "cell_type": "markdown",
   "metadata": {},
   "source": [
    "## 3. Planning to joint configurations 🦾"
   ]
  },
  {
   "cell_type": "code",
   "execution_count": null,
   "metadata": {},
   "outputs": [],
   "source": [
    "start_joints = np.deg2rad([0, -90, 90, -90, -90, 0])\n",
    "goal_joints = np.deg2rad([0, -90, 90, 180, -110, 0])\n",
    "\n",
    "path = planner.plan_to_joint_configuration(start_joints, goal_joints)"
   ]
  },
  {
   "cell_type": "code",
   "execution_count": null,
   "metadata": {},
   "outputs": [],
   "source": [
    "from airo_drake import calculate_joint_path_length\n",
    "\n",
    "calculate_joint_path_length(path)"
   ]
  },
  {
   "cell_type": "code",
   "execution_count": null,
   "metadata": {},
   "outputs": [],
   "source": [
    "from airo_drake import animate_joint_configurations\n",
    "\n",
    "animate_joint_configurations(scene.meshcat, scene.robot_diagram, scene.arm_index, path)"
   ]
  },
  {
   "cell_type": "code",
   "execution_count": null,
   "metadata": {},
   "outputs": [],
   "source": [
    "from airo_drake import time_parametrize_toppra, animate_joint_trajectory\n",
    "\n",
    "trajectory = time_parametrize_toppra(scene.robot_diagram.plant(), path)\n",
    "animate_joint_trajectory(scene.meshcat, scene.robot_diagram, scene.arm_index, trajectory)"
   ]
  },
  {
   "cell_type": "code",
   "execution_count": null,
   "metadata": {},
   "outputs": [],
   "source": []
  }
 ],
 "metadata": {
  "kernelspec": {
   "display_name": "cloth-competition",
   "language": "python",
   "name": "python3"
  },
  "language_info": {
   "codemirror_mode": {
    "name": "ipython",
    "version": 3
   },
   "file_extension": ".py",
   "mimetype": "text/x-python",
   "name": "python",
   "nbconvert_exporter": "python",
   "pygments_lexer": "ipython3",
   "version": "3.10.14"
  }
 },
 "nbformat": 4,
 "nbformat_minor": 2
}
