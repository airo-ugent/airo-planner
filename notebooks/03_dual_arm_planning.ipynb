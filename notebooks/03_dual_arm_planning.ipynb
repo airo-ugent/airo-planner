{
 "cells": [
  {
   "cell_type": "markdown",
   "metadata": {},
   "source": [
    "# Dual Arm Motion Planning 🦾🦾"
   ]
  },
  {
   "cell_type": "markdown",
   "metadata": {},
   "source": [
    "## 1. Setup 🏗️️\n",
    "\n",
    "### 1.1 Recreating the ICRA 2024 Cloth Competition Scene 👕"
   ]
  },
  {
   "cell_type": "code",
   "execution_count": null,
   "metadata": {},
   "outputs": [],
   "source": [
    "import numpy as np\n",
    "from airo_drake import DualArmScene, add_floor, add_manipulator, add_meshcat, add_wall, finish_build\n",
    "from pydrake.math import RigidTransform, RollPitchYaw\n",
    "from pydrake.multibody.tree import ModelInstanceIndex\n",
    "from pydrake.planning import RobotDiagramBuilder, SceneGraphCollisionChecker\n",
    "import airo_models\n",
    "\n",
    "\n",
    "def add_cloth_competition_dual_ur5e_scene(\n",
    "    robot_diagram_builder: RobotDiagramBuilder,\n",
    "    arm_left_transform: RigidTransform,\n",
    "    arm_right_transform: RigidTransform,\n",
    "    add_cylinder: bool = False,\n",
    ") -> tuple[tuple[ModelInstanceIndex, ModelInstanceIndex], tuple[ModelInstanceIndex, ModelInstanceIndex]]:\n",
    "    plant = robot_diagram_builder.plant()\n",
    "    parser = robot_diagram_builder.parser()\n",
    "    parser.SetAutoRenaming(True)\n",
    "\n",
    "    add_floor(robot_diagram_builder, y_size=2.4)\n",
    "\n",
    "    # Arms places side by side on the table\n",
    "    arm_y = arm_left_transform.translation()[1]\n",
    "\n",
    "    # Add three safety walls\n",
    "    wall_thickness = 0.2\n",
    "    wall_left_position = np.array([0, arm_y + 0.7 + wall_thickness / 2, 0])\n",
    "    wall_right_position = np.array([0, -arm_y - 0.7 - wall_thickness / 2, 0])\n",
    "    wall_back_position = np.array([0.9 + wall_thickness / 2, 0, 0])\n",
    "    add_wall(robot_diagram_builder, \"XZ\", 2.0, 2.0, wall_thickness, wall_left_position, \"wall_left\")\n",
    "    add_wall(robot_diagram_builder, \"XZ\", 2.0, 2.0, wall_thickness, wall_right_position, \"wall_right\")\n",
    "    add_wall(robot_diagram_builder, \"YZ\", 2.0, 2.7, wall_thickness, wall_back_position, \"wall_back\")\n",
    "\n",
    "    if add_cylinder:\n",
    "        cylinder_urdf_path = airo_models.cylinder_urdf_path(length=0.4, radius=0.1, name=\"cloth\")\n",
    "        cylinder_index = parser.AddModels(cylinder_urdf_path)[0]\n",
    "        cylinder_transform = RigidTransform(p=[0, 0, 0.6])\n",
    "        world_frame = plant.world_frame()\n",
    "        cylinder_frame = plant.GetFrameByName(\"base_link\", cylinder_index)\n",
    "        plant.WeldFrames(world_frame, cylinder_frame, cylinder_transform)\n",
    "\n",
    "    # The robot arms\n",
    "    arm_left_index, gripper_left_index = add_manipulator(\n",
    "        robot_diagram_builder, \"ur5e\", \"robotiq_2f_85\", arm_left_transform, static_gripper=True\n",
    "    )\n",
    "    arm_right_index, gripper_right_index = add_manipulator(\n",
    "        robot_diagram_builder, \"ur5e\", \"robotiq_2f_85\", arm_right_transform, static_gripper=True\n",
    "    )\n",
    "\n",
    "    return (arm_left_index, arm_right_index), (gripper_left_index, gripper_right_index)"
   ]
  },
  {
   "cell_type": "code",
   "execution_count": null,
   "metadata": {},
   "outputs": [],
   "source": [
    "robot_diagram_builder = RobotDiagramBuilder()\n",
    "\n",
    "meshcat = add_meshcat(robot_diagram_builder)\n",
    "meshcat.SetCameraPose([-1.5, 0, 1.0], [0, 0, 0])\n",
    "\n",
    "arm_y = 0.45\n",
    "X_W_L = RigidTransform(rpy=RollPitchYaw([0, 0, np.pi / 2]), p=[0, arm_y, 0])\n",
    "X_W_R = RigidTransform(rpy=RollPitchYaw([0, 0, np.pi / 2]), p=[0, -arm_y, 0])\n",
    "\n",
    "\n",
    "(arm_left_index, arm_right_index), (gripper_left_index, gripper_right_index) = add_cloth_competition_dual_ur5e_scene(\n",
    "    robot_diagram_builder, X_W_L, X_W_R\n",
    ")\n",
    "robot_diagram, context = finish_build(robot_diagram_builder, meshcat)\n",
    "\n",
    "scene = DualArmScene(robot_diagram, arm_left_index, arm_right_index, gripper_left_index, gripper_right_index, meshcat)"
   ]
  },
  {
   "cell_type": "markdown",
   "metadata": {},
   "source": [
    "### 1.2 Dual arm `SceneGraphCollisionChecker` 💥💥\n",
    "\n",
    "The only diffrence when making a `SceneGraphCollisionChecker` for dual arm is you need to provide it additional `ModelInstanceIndex`s.  "
   ]
  },
  {
   "cell_type": "code",
   "execution_count": null,
   "metadata": {},
   "outputs": [],
   "source": [
    "collision_checker = SceneGraphCollisionChecker(\n",
    "    model=scene.robot_diagram,\n",
    "    robot_model_instances=[\n",
    "        scene.arm_left_index,\n",
    "        scene.arm_right_index,\n",
    "        scene.gripper_left_index,\n",
    "        scene.gripper_right_index,\n",
    "    ],\n",
    "    edge_step_size=0.125,  # Arbitrary value: we don't use the CheckEdgeCollisionFree\n",
    "    env_collision_padding=0.005,\n",
    "    self_collision_padding=0.005,\n",
    ")"
   ]
  },
  {
   "cell_type": "code",
   "execution_count": null,
   "metadata": {},
   "outputs": [],
   "source": [
    "scene.robot_diagram.plant().num_positions()"
   ]
  },
  {
   "cell_type": "code",
   "execution_count": null,
   "metadata": {},
   "outputs": [],
   "source": [
    "collision_checker.CheckConfigCollisionFree(np.zeros(12))"
   ]
  },
  {
   "cell_type": "code",
   "execution_count": null,
   "metadata": {},
   "outputs": [],
   "source": [
    "home_joints_left = np.deg2rad([180, -120, 60, -30, -90, -90])\n",
    "home_joints_right = np.deg2rad([-180, -60, -60, -150, 90, 90])\n",
    "\n",
    "home_joints = np.concatenate([home_joints_left, home_joints_right])\n",
    "\n",
    "collision_checker.CheckConfigCollisionFree(home_joints)"
   ]
  },
  {
   "cell_type": "code",
   "execution_count": null,
   "metadata": {},
   "outputs": [],
   "source": [
    "plant = scene.robot_diagram.plant()\n",
    "plant_context = plant.GetMyContextFromRoot(context)\n",
    "\n",
    "plant.SetPositions(plant_context, home_joints)\n",
    "scene.robot_diagram.ForcedPublish(context)  # updates the meshcat visualization"
   ]
  },
  {
   "cell_type": "markdown",
   "metadata": {},
   "source": [
    "### 1.3 Inverse kinematics for both arms 🧮🧮\n",
    "We will wrap the individual IK functions to express TCP poses in a common world frame."
   ]
  },
  {
   "cell_type": "code",
   "execution_count": null,
   "metadata": {},
   "outputs": [],
   "source": [
    "from functools import partial\n",
    "from airo_typing import HomogeneousMatrixType, JointConfigurationType\n",
    "from airo_drake import X_URBASE_ROSBASE\n",
    "from ur_analytic_ik import ur5e\n",
    "\n",
    "tcp_transform = np.identity(4)\n",
    "tcp_transform[2, 3] = 0.175\n",
    "\n",
    "\n",
    "def inverse_kinematics_in_world_fn(\n",
    "    tcp_pose: HomogeneousMatrixType, X_W_CB: HomogeneousMatrixType\n",
    ") -> list[JointConfigurationType]:\n",
    "    X_W_TCP = tcp_pose\n",
    "    X_CB_W = np.linalg.inv(X_W_CB)\n",
    "    solutions_1x6 = ur5e.inverse_kinematics_with_tcp(X_CB_W @ X_W_TCP, tcp_transform)\n",
    "    solutions = [solution.squeeze() for solution in solutions_1x6]\n",
    "    return solutions\n",
    "\n",
    "\n",
    "# This conversion is needed because the URDFs use the ROS base frame convention:\n",
    "X_CB_B = X_URBASE_ROSBASE\n",
    "X_W_LCB = X_W_L.GetAsMatrix4() @ np.linalg.inv(X_CB_B.GetAsMatrix4())\n",
    "X_W_RCB = X_W_R.GetAsMatrix4() @ np.linalg.inv(X_CB_B.GetAsMatrix4())\n",
    "\n",
    "inverse_kinematics_left_fn = partial(inverse_kinematics_in_world_fn, X_W_CB=X_W_LCB)\n",
    "inverse_kinematics_right_fn = partial(inverse_kinematics_in_world_fn, X_W_CB=X_W_RCB)"
   ]
  },
  {
   "cell_type": "markdown",
   "metadata": {},
   "source": [
    "### 1.4 `DualArmOmplPlanner` 🧭"
   ]
  },
  {
   "cell_type": "code",
   "execution_count": null,
   "metadata": {},
   "outputs": [],
   "source": [
    "from airo_planner import DualArmOmplPlanner\n",
    "\n",
    "# These joint bounds are specifically for UR5e mounted on a table.\n",
    "# joint_bounds_lower = np.deg2rad([-360, -195, -160, -360, -360, -360])\n",
    "# joint_bounds_upper = np.deg2rad([360, 15, 160, 360, 360, 360])\n",
    "joint_bounds = None\n",
    "\n",
    "\n",
    "planner = DualArmOmplPlanner(\n",
    "    is_state_valid_fn=collision_checker.CheckConfigCollisionFree,\n",
    "    inverse_kinematics_left_fn=inverse_kinematics_left_fn,\n",
    "    inverse_kinematics_right_fn=inverse_kinematics_right_fn,\n",
    "    joint_bounds_left=joint_bounds,\n",
    "    joint_bounds_right=joint_bounds,\n",
    ")"
   ]
  },
  {
   "cell_type": "markdown",
   "metadata": {},
   "source": [
    "We use the terms \"left\" and \"right\" for the two arms, note that you can choose yourself which arm is which, however you must take care to be consistent which arms configuration is first and which is second in the `is_state_valid_fn`. We recommend for simplificity to choose as left arm the arm that also appear on the left side of image from the robot's primary camera, as this is how an egocentric robot would name its arms.\n",
    "\n",
    "The API for dual arm motion planning is very similar to the single arm API, expect that you can supply two joint configurations or two tcp poses instead of one. "
   ]
  },
  {
   "cell_type": "markdown",
   "metadata": {},
   "source": [
    "## 2. Scenarios 🖼️\n",
    "\n",
    "In this section we demonstrate the `airo-planner` API by going over the main Cloth Competition use cases.\n",
    "\n",
    "TODO:\n",
    "- scene without cloth obstacle go home\n",
    "- scene grasp highest (plan to single TCP pose)\n",
    "- scene with cloth obstacle grasp single arm and filter -> pregrasp no collision, grasp can collide\n",
    "- scene go to stretch poses (plan to dual TCP poses)"
   ]
  },
  {
   "cell_type": "markdown",
   "metadata": {},
   "source": [
    "### 2.1 Joints to joints (🦾,🦾) -> (🦾,🦾)"
   ]
  },
  {
   "cell_type": "code",
   "execution_count": null,
   "metadata": {},
   "outputs": [],
   "source": [
    "tangled_joints_left = np.deg2rad([0, -90, -90, -90, 90, 0])\n",
    "tangled_joints_right = np.deg2rad([-136, -116, -110, -133, 40, 0])\n",
    "tangled_joints = np.concatenate([tangled_joints_left, tangled_joints_right])\n",
    "\n",
    "plant.SetPositions(plant_context, tangled_joints)\n",
    "scene.robot_diagram.ForcedPublish(context)  # updates the meshcat visualization"
   ]
  },
  {
   "cell_type": "code",
   "execution_count": null,
   "metadata": {},
   "outputs": [],
   "source": [
    "path = planner.plan_to_joint_configuration(\n",
    "    tangled_joints_left, tangled_joints_right, home_joints_left, home_joints_right\n",
    ")\n",
    "print(path.shape)"
   ]
  },
  {
   "cell_type": "code",
   "execution_count": null,
   "metadata": {},
   "outputs": [],
   "source": [
    "from airo_drake import time_parametrize_toppra, animate_dual_joint_trajectory\n",
    "\n",
    "trajectory = time_parametrize_toppra(scene.robot_diagram.plant(), path)\n",
    "\n",
    "animate_dual_joint_trajectory(\n",
    "    scene.meshcat, scene.robot_diagram, scene.arm_left_index, scene.arm_right_index, trajectory\n",
    ")"
   ]
  },
  {
   "cell_type": "markdown",
   "metadata": {},
   "source": [
    "### 2.2 Joints to single arm joints (🦾,🦾) -> (🦾,💤)\n",
    "\n",
    "Note that you are allow to set one of the goals to `None` to indicate that that arm should not move."
   ]
  },
  {
   "cell_type": "code",
   "execution_count": null,
   "metadata": {},
   "outputs": [],
   "source": [
    "path = planner.plan_to_joint_configuration(tangled_joints_left, tangled_joints_right, home_joints_left, None)"
   ]
  },
  {
   "cell_type": "code",
   "execution_count": null,
   "metadata": {},
   "outputs": [],
   "source": [
    "trajectory = time_parametrize_toppra(scene.robot_diagram.plant(), path)\n",
    "animate_dual_joint_trajectory(\n",
    "    scene.meshcat, scene.robot_diagram, scene.arm_left_index, scene.arm_right_index, trajectory\n",
    ")"
   ]
  },
  {
   "cell_type": "markdown",
   "metadata": {},
   "source": [
    "### 2.3 Joints to single TCP pose  (🦾,🦾) -> (💤,📐)"
   ]
  },
  {
   "cell_type": "code",
   "execution_count": null,
   "metadata": {},
   "outputs": [],
   "source": [
    "from airo_drake import animate_joint_configurations, visualize_frame\n",
    "\n",
    "grasp_pose_hard = np.identity(4)\n",
    "grasp_pose_hard[2, 3] = 0.4\n",
    "\n",
    "visualize_frame(scene.meshcat, \"grasp_pose\", grasp_pose_hard)\n",
    "\n",
    "grasp_joints = inverse_kinematics_right_fn(grasp_pose_hard)\n",
    "\n",
    "animate_joint_configurations(scene.meshcat, scene.robot_diagram, scene.arm_right_index, grasp_joints, context=context)"
   ]
  },
  {
   "cell_type": "code",
   "execution_count": null,
   "metadata": {},
   "outputs": [],
   "source": [
    "path = planner.plan_to_tcp_pose(tangled_joints_left, home_joints_right, None, grasp_pose_hard)"
   ]
  },
  {
   "cell_type": "code",
   "execution_count": null,
   "metadata": {},
   "outputs": [],
   "source": [
    "trajectory = time_parametrize_toppra(scene.robot_diagram.plant(), path)\n",
    "animate_dual_joint_trajectory(\n",
    "    scene.meshcat, scene.robot_diagram, scene.arm_left_index, scene.arm_right_index, trajectory\n",
    ")"
   ]
  },
  {
   "cell_type": "markdown",
   "metadata": {},
   "source": [
    "### 2.3 Joints to dual TCP poses  (🦾,🦾) -> (📐,📐)"
   ]
  },
  {
   "cell_type": "code",
   "execution_count": null,
   "metadata": {},
   "outputs": [],
   "source": [
    "from airo_typing import RotationMatrixType\n",
    "\n",
    "\n",
    "def hang_in_the_air_tcp_orientation(left: bool) -> RotationMatrixType:\n",
    "    gripper_forward_direction = np.array([0, -1, 0]) if left else np.array([0, 1, 0])\n",
    "    Z = gripper_forward_direction / np.linalg.norm(gripper_forward_direction)\n",
    "    X = np.array([0, 0, 1]) if left else np.array([0, 0, -1])\n",
    "    Y = np.cross(Z, X)\n",
    "    return np.column_stack([X, Y, Z])\n",
    "\n",
    "\n",
    "def hang_in_the_air_tcp_pose(left: bool) -> HomogeneousMatrixType:\n",
    "    position = np.array([0, 0, 0.9])  # 1 m is too close to a singularity\n",
    "    gripper_orientation = hang_in_the_air_tcp_orientation(left)\n",
    "\n",
    "    gripper_pose = np.identity(4)\n",
    "    gripper_pose[0:3, 0:3] = gripper_orientation\n",
    "    gripper_pose[0:3, 3] = position\n",
    "    return gripper_pose\n",
    "\n",
    "\n",
    "hang_pose_left = hang_in_the_air_tcp_pose(left=True)\n",
    "hang_pose_right = hang_in_the_air_tcp_pose(left=False)\n",
    "\n",
    "stretch_pose_left = hang_pose_left.copy()\n",
    "stretch_pose_right = hang_pose_right.copy()\n",
    "\n",
    "stretch_pose_left[:3, 3] += np.array([-0.4, 0.02, 0])\n",
    "stretch_pose_right[:3, 3] += np.array([-0.4, -0.02, 0])\n",
    "\n",
    "visualize_frame(scene.meshcat, \"stretch_pose_left\", stretch_pose_left, opacity=0.5)\n",
    "visualize_frame(scene.meshcat, \"stretch_pose_right\", stretch_pose_right, opacity=0.5)"
   ]
  },
  {
   "cell_type": "code",
   "execution_count": null,
   "metadata": {},
   "outputs": [],
   "source": [
    "path = planner.plan_to_tcp_pose(tangled_joints_left, tangled_joints_right, stretch_pose_left, stretch_pose_right)"
   ]
  },
  {
   "cell_type": "code",
   "execution_count": null,
   "metadata": {},
   "outputs": [],
   "source": [
    "trajectory = time_parametrize_toppra(scene.robot_diagram.plant(), path)\n",
    "animate_dual_joint_trajectory(\n",
    "    scene.meshcat, scene.robot_diagram, scene.arm_left_index, scene.arm_right_index, trajectory\n",
    ")"
   ]
  },
  {
   "cell_type": "code",
   "execution_count": null,
   "metadata": {},
   "outputs": [],
   "source": [
    "scene.meshcat.Delete(\"stretch_pose_left\")\n",
    "scene.meshcat.Delete(\"stretch_pose_right\")"
   ]
  },
  {
   "cell_type": "markdown",
   "metadata": {},
   "source": [
    "### 2.4 Joints to single TCP pose with ranking (🦾,🦾) -> (💤,📐)"
   ]
  },
  {
   "cell_type": "code",
   "execution_count": null,
   "metadata": {},
   "outputs": [],
   "source": [
    "from airo_planner import rank_by_distance_to_desirable_configurations\n",
    "from airo_planner import stack_joints\n",
    "\n",
    "# Note how we set desirable left joints to it's start configuration as the left arm is not involved in the task\n",
    "desirable_configurations = [stack_joints(tangled_joints_left, home_joints_right)]\n",
    "\n",
    "rank_fn = partial(rank_by_distance_to_desirable_configurations, desirable_configurations=desirable_configurations)\n",
    "\n",
    "\n",
    "planner.rank_goal_configurations_fn = rank_fn\n",
    "path = planner.plan_to_tcp_pose(tangled_joints_left, tangled_joints_right, None, hang_pose_right)\n",
    "planner.rank_goal_configurations_fn = None  # Remove the rank function for when other cells are run"
   ]
  },
  {
   "cell_type": "code",
   "execution_count": null,
   "metadata": {},
   "outputs": [],
   "source": [
    "trajectory = time_parametrize_toppra(scene.robot_diagram.plant(), path)\n",
    "animate_dual_joint_trajectory(\n",
    "    scene.meshcat, scene.robot_diagram, scene.arm_left_index, scene.arm_right_index, trajectory\n",
    ")"
   ]
  },
  {
   "cell_type": "markdown",
   "metadata": {},
   "source": [
    "## 3. Advanced filtering and ranking for grasping ⚙️\n",
    "\n",
    "In this example we show the full capability of airo-planner for a complex cloth competition use cases, grasping a hanging cloth with one arm that is held in the air with another arm.\n",
    "\n",
    "We want to approach the grasp pose linearly from pregrasp pose that lies a few cm behind it (several distances can be tried). The path to the pregrasp pose should not collide with the convex hull of the hanging cloth. The path from the pregrasp pose to the grasp pose should not collide with the environment, but is allowed to contact the cloth. \n",
    "\n",
    "Additionally, of all solution paths, we prefer paths where the linear grasp motion can be executed \"comfortably\", so we rank the pregrasp joints by the TOPP-RA calculated duration of the grasp trajectory.\n",
    "\n",
    "To summarize:\n",
    "* We will choose a pregrasp distance and calculate the resulting pregrasp pose and grasp TCP path.\n",
    "* We calculate the environment-collision-free joint paths that can execute this TCP path.\n",
    "* We calculate their duration and rank the pregrasp joints according to grasp path duration\n",
    "* We try to plan a cloth-collision-free pregrasp path to the pregrasp joints   \n",
    "* If anything fails, try a different pregrasp distance\n",
    "* If all pregrasp distances fail, consider the grasp pos unreachable."
   ]
  },
  {
   "cell_type": "markdown",
   "metadata": {},
   "source": [
    "### 3.1 Filtering collision"
   ]
  },
  {
   "cell_type": "code",
   "execution_count": null,
   "metadata": {},
   "outputs": [],
   "source": [
    "robot_diagram_builder = RobotDiagramBuilder()\n",
    "meshcat = add_meshcat(robot_diagram_builder)\n",
    "meshcat.SetCameraPose([-1.5, 0, 1.0], [0, 0, 0])\n",
    "\n",
    "(arm_left_index, arm_right_index), (gripper_left_index, gripper_right_index) = add_cloth_competition_dual_ur5e_scene(\n",
    "    robot_diagram_builder, X_W_L, X_W_R, add_cylinder=True\n",
    ")\n",
    "robot_diagram, context = finish_build(robot_diagram_builder, meshcat)\n",
    "\n",
    "scene_with_cloth = DualArmScene(\n",
    "    robot_diagram,\n",
    "    arm_left_index,\n",
    "    arm_right_index,\n",
    "    gripper_left_index,\n",
    "    gripper_right_index,\n",
    "    meshcat,\n",
    ")"
   ]
  },
  {
   "cell_type": "code",
   "execution_count": null,
   "metadata": {},
   "outputs": [],
   "source": [
    "hang_pose_left = hang_in_the_air_tcp_pose(left=True)\n",
    "\n",
    "hang_joints_left = inverse_kinematics_left_fn(hang_pose_left)\n",
    "\n",
    "for joints in hang_joints_left:\n",
    "    print(joints)\n",
    "\n",
    "\n",
    "start_joints_left = rank_by_distance_to_desirable_configurations(hang_joints_left, [home_joints_left])[0]\n",
    "\n",
    "print(\"Chosen:\")\n",
    "print(start_joints_left)"
   ]
  },
  {
   "cell_type": "code",
   "execution_count": null,
   "metadata": {},
   "outputs": [],
   "source": [
    "start_joints_right = home_joints_right\n",
    "start_joints = np.concatenate([start_joints_left, start_joints_right])\n",
    "\n",
    "plant = robot_diagram.plant()\n",
    "plant_context = plant.GetMyContextFromRoot(context)\n",
    "plant.SetPositions(plant_context, start_joints)\n",
    "robot_diagram.ForcedPublish(context)  # updates the meshcat visualization"
   ]
  },
  {
   "cell_type": "markdown",
   "metadata": {},
   "source": [
    "Visualization of plannig without the cloth obstacle"
   ]
  },
  {
   "cell_type": "code",
   "execution_count": null,
   "metadata": {},
   "outputs": [],
   "source": [
    "path = planner.plan_to_tcp_pose(start_joints_left, start_joints_right, None, grasp_pose_hard)\n",
    "trajectory = time_parametrize_toppra(scene.robot_diagram.plant(), path)\n",
    "animate_dual_joint_trajectory(\n",
    "    scene_with_cloth.meshcat,\n",
    "    scene_with_cloth.robot_diagram,\n",
    "    scene_with_cloth.arm_left_index,\n",
    "    scene_with_cloth.arm_right_index,\n",
    "    trajectory,\n",
    ")"
   ]
  },
  {
   "cell_type": "code",
   "execution_count": null,
   "metadata": {},
   "outputs": [],
   "source": [
    "collision_checker_with_cloth = SceneGraphCollisionChecker(\n",
    "    model=scene_with_cloth.robot_diagram,\n",
    "    robot_model_instances=[\n",
    "        scene_with_cloth.arm_left_index,\n",
    "        scene_with_cloth.arm_right_index,\n",
    "        scene_with_cloth.gripper_left_index,\n",
    "        scene_with_cloth.gripper_right_index,\n",
    "    ],\n",
    "    edge_step_size=0.125,  # Arbitrary value: we don't use the CheckEdgeCollisionFree\n",
    "    env_collision_padding=0.005,\n",
    "    self_collision_padding=0.005,\n",
    ")"
   ]
  },
  {
   "cell_type": "code",
   "execution_count": null,
   "metadata": {},
   "outputs": [],
   "source": [
    "collision_checker_with_cloth.CheckConfigCollisionFree(trajectory.value(trajectory.end_time()))"
   ]
  },
  {
   "cell_type": "code",
   "execution_count": null,
   "metadata": {},
   "outputs": [],
   "source": [
    "is_state_valid_fn_pregrasp = collision_checker_with_cloth.CheckConfigCollisionFree\n",
    "is_state_valid_fn_grasp = collision_checker.CheckConfigCollisionFree"
   ]
  },
  {
   "cell_type": "code",
   "execution_count": null,
   "metadata": {},
   "outputs": [],
   "source": [
    "planner_pregrasp = DualArmOmplPlanner(\n",
    "    is_state_valid_fn=is_state_valid_fn_pregrasp,\n",
    "    inverse_kinematics_left_fn=inverse_kinematics_left_fn,\n",
    "    inverse_kinematics_right_fn=inverse_kinematics_right_fn,\n",
    "    joint_bounds_left=joint_bounds,\n",
    "    joint_bounds_right=joint_bounds,\n",
    ")"
   ]
  },
  {
   "cell_type": "code",
   "execution_count": null,
   "metadata": {},
   "outputs": [],
   "source": [
    "from airo_typing import InverseKinematicsFunctionType, JointConfigurationCheckerType, JointPathType\n",
    "from loguru import logger\n",
    "from pydrake.trajectories import PiecewisePose, Trajectory\n",
    "from pydrake.math import RigidTransform\n",
    "from airo_drake import discretize_drake_pose_trajectory\n",
    "from airo_drake import calculate_valid_joint_paths\n",
    "from functools import partial\n",
    "from airo_planner import filter_with_distance_to_configurations, PlannerError\n",
    "from pydrake.multibody.plant import MultibodyPlant\n",
    "from airo_drake import concatenate_drake_trajectories\n",
    "\n",
    "\n",
    "# TODO consider making a class for this that stores debug information\n",
    "def plan_pregrasp_and_grasp_trajetory(\n",
    "    planner_pregrasp: DualArmOmplPlanner,\n",
    "    grasp_pose: HomogeneousMatrixType,\n",
    "    start_configuration_left: JointConfigurationType,\n",
    "    start_configuration_right: JointConfigurationType,\n",
    "    inverse_kinematics_left_fn: InverseKinematicsFunctionType,  # same comment as for is_state_valid_fn_grasp\n",
    "    inverse_kinematics_right_fn: InverseKinematicsFunctionType,\n",
    "    is_state_valid_fn_grasp: JointConfigurationCheckerType,  # could make this optional and use planner's by default\n",
    "    plant_toppra: MultibodyPlant,\n",
    "    with_left: bool = True,\n",
    ") -> tuple[Trajectory]:\n",
    "\n",
    "    # We add 1.0 so at least one pregrasp distance fails:\n",
    "    pregrasp_distances_to_try = [0.05, 0.1, 0.15]  # , 0.2, 0.25]\n",
    "\n",
    "    # is_state_valid_fn_grasp currently still takes a 12-DoF configuration\n",
    "    def is_single_arm_state_valid_fn_grasp(joint_configuration: JointConfigurationType) -> bool:\n",
    "        if with_left:\n",
    "            return is_state_valid_fn_grasp(stack_joints(joint_configuration, start_configuration_right))\n",
    "        else:\n",
    "            return is_state_valid_fn_grasp(stack_joints(start_configuration_left, joint_configuration))\n",
    "\n",
    "    def hardcoded_cost_fn(\n",
    "        joint_configuration: JointConfigurationType,\n",
    "        known_joint_configurations: list[JointConfigurationType],\n",
    "        costs: list[float],\n",
    "    ) -> float:\n",
    "        distances = [\n",
    "            np.linalg.norm(joint_configuration - known_configuration)\n",
    "            for known_configuration in known_joint_configurations\n",
    "        ]\n",
    "        if np.min(distances) > 0.001:\n",
    "            logger.warning(f\"Joint configuration is not close to any known configurations. {joint_configuration} \")\n",
    "        return costs[np.argmin(distances)]\n",
    "\n",
    "    def rank_with_cost_fn(\n",
    "        joint_configurations: list[JointConfigurationType], cost_fn: JointConfigurationCheckerType\n",
    "    ) -> list[JointConfigurationType]:\n",
    "        return sorted(joint_configurations, key=cost_fn)\n",
    "\n",
    "    for distance in pregrasp_distances_to_try:\n",
    "        logger.info(f\"Planning to pregrasp pose at distance {distance}.\")\n",
    "        # 1. Compute pregrasp pose\n",
    "        pregrasp_pose = grasp_pose.copy()\n",
    "        pregrasp_pose[0:3, 3] -= distance * pregrasp_pose[0:3, 2]\n",
    "\n",
    "        pregrasp_pose_left = pregrasp_pose if with_left else None\n",
    "        pregrasp_pose_right = pregrasp_pose if not with_left else None\n",
    "\n",
    "        # 2. Compute grasp TCP path\n",
    "        rigid_transforms = [RigidTransform(pose) for pose in [pregrasp_pose, grasp_pose]]\n",
    "        times = np.linspace(0, 1, len(rigid_transforms))\n",
    "        pose_trajectory = PiecewisePose.MakeLinear(times=times, poses=rigid_transforms)\n",
    "        grasp_tcp_path = discretize_drake_pose_trajectory(pose_trajectory).poses\n",
    "\n",
    "        # 3 Compute valid grasp joint paths\n",
    "        inverse_kinematics_fn = inverse_kinematics_left_fn if with_left else inverse_kinematics_right_fn\n",
    "\n",
    "        grasp_path_single_arm = calculate_valid_joint_paths(\n",
    "            grasp_tcp_path, inverse_kinematics_fn, is_single_arm_state_valid_fn_grasp\n",
    "        )\n",
    "\n",
    "        if len(grasp_path_single_arm) == 0:\n",
    "            logger.info(f\"No valid grasp joint paths found for distance {distance}, continuing to next distance.\")\n",
    "            continue\n",
    "\n",
    "        if with_left:\n",
    "            grasp_paths = [stack_joints(path, start_configuration_right) for path in grasp_path_single_arm]\n",
    "        else:\n",
    "            grasp_paths = [stack_joints(start_configuration_left, path) for path in grasp_path_single_arm]\n",
    "\n",
    "        # Create filter function\n",
    "        grasp_path_starts = [path[0] for path in grasp_paths]\n",
    "        filter_fn = partial(filter_with_distance_to_configurations, joint_configurations_close=grasp_path_starts)\n",
    "\n",
    "        # Create rank function\n",
    "        grasp_trajectories = []\n",
    "        times = []\n",
    "        for path in grasp_paths:\n",
    "            trajectory = time_parametrize_toppra(plant_toppra, path)\n",
    "            times.append(trajectory.end_time())\n",
    "            grasp_trajectories.append(trajectory)\n",
    "\n",
    "        cost_fn = partial(hardcoded_cost_fn, known_joint_configurations=grasp_path_starts, costs=times)\n",
    "        rank_fn = partial(rank_with_cost_fn, cost_fn=cost_fn)\n",
    "\n",
    "        # Plan\n",
    "        planner_pregrasp.filter_goal_configurations_fn = filter_fn\n",
    "        planner_pregrasp.rank_goal_configurations_fn = rank_fn\n",
    "\n",
    "        try:\n",
    "            pregrasp_path = planner_pregrasp.plan_to_tcp_pose(\n",
    "                start_configuration_left, start_configuration_right, pregrasp_pose_left, pregrasp_pose_right\n",
    "            )\n",
    "        except PlannerError as e:\n",
    "            logger.info(\n",
    "                f\"Failed to plan to pregrasp pose at distance {distance}, continuing to next distance. Exception was:\\n {e}.\"\n",
    "            )\n",
    "            continue\n",
    "\n",
    "        pregrasp_trajectory = time_parametrize_toppra(plant_toppra, pregrasp_path)\n",
    "\n",
    "        # # Find the grasp trajectory of which the start is closest to the pregrasp path end (=pregrasp end joints)\n",
    "        # We will likely want an airo-planner helper function for this\n",
    "        pregrasp_end_joints = pregrasp_path[-1]\n",
    "        distances = [np.linalg.norm(start - pregrasp_end_joints) for start in grasp_path_starts]\n",
    "        index_of_closest_start = np.argmin(distances)\n",
    "\n",
    "        assert np.isclose(distances[index_of_closest_start], 0, atol=0.01)  # sanity check\n",
    "\n",
    "        grasp_trajectory = grasp_trajectories[index_of_closest_start]\n",
    "\n",
    "        # final set: concatenate pregrasp and grasp trajectories\n",
    "        pregrasp_and_grasp_trajectory = concatenate_drake_trajectories([pregrasp_trajectory, grasp_trajectory])\n",
    "\n",
    "        return pregrasp_and_grasp_trajectory\n",
    "\n",
    "    raise RuntimeError(\"Grasp planner exhausted all pregrasp poses to try\")"
   ]
  },
  {
   "cell_type": "code",
   "execution_count": null,
   "metadata": {},
   "outputs": [],
   "source": [
    "from airo_drake import visualize_frame\n",
    "\n",
    "grasp_location = np.array([0.0, 0.0, 0.4])\n",
    "\n",
    "gripper_forward_direction = np.array([1, 0, 0])\n",
    "\n",
    "Z = gripper_forward_direction / np.linalg.norm(gripper_forward_direction)\n",
    "Y = np.array([0, 0, -1])  # 0, 0, 1 is also an option\n",
    "X = np.cross(Y, Z)\n",
    "\n",
    "grasp_orientation = np.column_stack([X, Y, Z])\n",
    "grasp_pose_easy = np.identity(4)\n",
    "grasp_pose_easy[0:3, 0:3] = grasp_orientation\n",
    "grasp_pose_easy[0:3, 3] = grasp_location\n",
    "\n",
    "visualize_frame(scene_with_cloth.meshcat, \"grasp_pose_easy\", grasp_pose_easy, length=0.25)"
   ]
  },
  {
   "cell_type": "code",
   "execution_count": null,
   "metadata": {},
   "outputs": [],
   "source": [
    "pregrasp_and_grasp_trajectory_easy = plan_pregrasp_and_grasp_trajetory(\n",
    "    planner_pregrasp,\n",
    "    grasp_pose_easy,\n",
    "    start_joints_left,\n",
    "    start_joints_right,\n",
    "    inverse_kinematics_left_fn,\n",
    "    inverse_kinematics_right_fn,\n",
    "    is_state_valid_fn_grasp,\n",
    "    plant,\n",
    "    with_left=False,\n",
    ")\n",
    "\n",
    "animate_dual_joint_trajectory(\n",
    "    scene_with_cloth.meshcat,\n",
    "    scene_with_cloth.robot_diagram,\n",
    "    scene_with_cloth.arm_left_index,\n",
    "    scene_with_cloth.arm_right_index,\n",
    "    pregrasp_and_grasp_trajectory_easy,\n",
    ")"
   ]
  },
  {
   "cell_type": "code",
   "execution_count": null,
   "metadata": {},
   "outputs": [],
   "source": [
    "scene_with_cloth.meshcat.Delete(\"grasp_pose_easy\")"
   ]
  },
  {
   "cell_type": "code",
   "execution_count": null,
   "metadata": {},
   "outputs": [],
   "source": [
    "grasp_location = np.array([-0.08, 0.0, 0.33])\n",
    "\n",
    "gripper_forward_direction = np.array([1, -1, 0])\n",
    "\n",
    "Z = gripper_forward_direction / np.linalg.norm(gripper_forward_direction)\n",
    "Y = np.array([0, 0, -1])  # 0, 0, 1 is also an option\n",
    "X = np.cross(Y, Z)\n",
    "\n",
    "grasp_orientation = np.column_stack([X, Y, Z])\n",
    "grasp_pose_hard = np.identity(4)\n",
    "grasp_pose_hard[0:3, 0:3] = grasp_orientation\n",
    "grasp_pose_hard[0:3, 3] = grasp_location\n",
    "\n",
    "visualize_frame(scene_with_cloth.meshcat, \"grasp_pose_hard\", grasp_pose_hard, length=0.25)"
   ]
  },
  {
   "cell_type": "code",
   "execution_count": null,
   "metadata": {},
   "outputs": [],
   "source": [
    "pregrasp_and_grasp_trajectory_hard = plan_pregrasp_and_grasp_trajetory(\n",
    "    planner_pregrasp,\n",
    "    grasp_pose_hard,\n",
    "    start_joints_left,\n",
    "    start_joints_right,\n",
    "    inverse_kinematics_left_fn,\n",
    "    inverse_kinematics_right_fn,\n",
    "    is_state_valid_fn_grasp,\n",
    "    plant,\n",
    "    with_left=False,\n",
    ")\n",
    "\n",
    "animate_dual_joint_trajectory(\n",
    "    scene_with_cloth.meshcat,\n",
    "    scene_with_cloth.robot_diagram,\n",
    "    scene_with_cloth.arm_left_index,\n",
    "    scene_with_cloth.arm_right_index,\n",
    "    pregrasp_and_grasp_trajectory_hard,\n",
    ")"
   ]
  },
  {
   "cell_type": "code",
   "execution_count": null,
   "metadata": {},
   "outputs": [],
   "source": [
    "scene_with_cloth.meshcat.Delete(\"grasp_pose_hard\")"
   ]
  },
  {
   "cell_type": "code",
   "execution_count": null,
   "metadata": {},
   "outputs": [],
   "source": []
  }
 ],
 "metadata": {
  "kernelspec": {
   "display_name": "cloth-competition-dev",
   "language": "python",
   "name": "python3"
  },
  "language_info": {
   "codemirror_mode": {
    "name": "ipython",
    "version": 3
   },
   "file_extension": ".py",
   "mimetype": "text/x-python",
   "name": "python",
   "nbconvert_exporter": "python",
   "pygments_lexer": "ipython3",
   "version": "3.10.14"
  }
 },
 "nbformat": 4,
 "nbformat_minor": 2
}
