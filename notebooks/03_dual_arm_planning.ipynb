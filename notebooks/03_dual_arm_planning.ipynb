{
 "cells": [
  {
   "cell_type": "markdown",
   "metadata": {},
   "source": [
    "# Dual Arm Motion Planning 🦾🦾"
   ]
  },
  {
   "cell_type": "markdown",
   "metadata": {},
   "source": [
    "## 1. Setup 🏗️️\n",
    "\n",
    "### 1.1 Recreating the ICRA 2024 Cloth Competition Scene 👕"
   ]
  },
  {
   "cell_type": "code",
   "execution_count": null,
   "metadata": {},
   "outputs": [],
   "source": [
    "import numpy as np\n",
    "from airo_drake import DualArmScene, add_floor, add_manipulator, add_meshcat, add_wall, finish_build\n",
    "from pydrake.math import RigidTransform, RollPitchYaw\n",
    "from pydrake.multibody.tree import ModelInstanceIndex\n",
    "from pydrake.planning import RobotDiagramBuilder, SceneGraphCollisionChecker\n",
    "\n",
    "\n",
    "def add_cloth_competition_dual_ur5e_scene(\n",
    "    robot_diagram_builder: RobotDiagramBuilder, arm_left_transform: RigidTransform, arm_right_transform: RigidTransform\n",
    ") -> tuple[tuple[ModelInstanceIndex, ModelInstanceIndex], tuple[ModelInstanceIndex, ModelInstanceIndex]]:\n",
    "    parser = robot_diagram_builder.parser()\n",
    "    parser.SetAutoRenaming(True)\n",
    "\n",
    "    add_floor(robot_diagram_builder, y_size=2.4)\n",
    "\n",
    "    # Arms places side by side on the table\n",
    "    arm_y = arm_left_transform.translation()[1] \n",
    "\n",
    "    # Add three safety walls\n",
    "    wall_thickness = 0.2\n",
    "    wall_left_position = np.array([0, arm_y + 0.7 + wall_thickness / 2, 0])\n",
    "    wall_right_position = np.array([0, -arm_y - 0.7 - wall_thickness / 2, 0])\n",
    "    wall_back_position = np.array([0.9 + wall_thickness / 2, 0, 0])\n",
    "    add_wall(robot_diagram_builder, \"XZ\", 2.0, 2.0, wall_thickness, wall_left_position, \"wall_left\")\n",
    "    add_wall(robot_diagram_builder, \"XZ\", 2.0, 2.0, wall_thickness, wall_right_position, \"wall_right\")\n",
    "    add_wall(robot_diagram_builder, \"YZ\", 2.0, 2.7, wall_thickness, wall_back_position, \"wall_back\")\n",
    "\n",
    "    # The robot arms\n",
    "    arm_left_index, gripper_left_index = add_manipulator(\n",
    "        robot_diagram_builder, \"ur5e\", \"robotiq_2f_85\", arm_left_transform, static_gripper=True\n",
    "    )\n",
    "    arm_right_index, gripper_right_index = add_manipulator(\n",
    "        robot_diagram_builder, \"ur5e\", \"robotiq_2f_85\", arm_right_transform, static_gripper=True\n",
    "    )\n",
    "\n",
    "    return (arm_left_index, arm_right_index), (gripper_left_index, gripper_right_index)"
   ]
  },
  {
   "cell_type": "code",
   "execution_count": null,
   "metadata": {},
   "outputs": [],
   "source": [
    "robot_diagram_builder = RobotDiagramBuilder()\n",
    "\n",
    "meshcat = add_meshcat(robot_diagram_builder)\n",
    "\n",
    "arm_y = 0.45\n",
    "X_W_L = RigidTransform(rpy=RollPitchYaw([0, 0, np.pi / 2]), p=[0, arm_y, 0])\n",
    "X_W_R = RigidTransform(rpy=RollPitchYaw([0, 0, np.pi / 2]), p=[0, -arm_y, 0])\n",
    "\n",
    "\n",
    "(arm_left_index, arm_right_index), (gripper_left_index, gripper_right_index) = add_cloth_competition_dual_ur5e_scene(\n",
    "    robot_diagram_builder, X_W_L, X_W_R\n",
    ")\n",
    "robot_diagram, context = finish_build(robot_diagram_builder)\n",
    "\n",
    "scene = DualArmScene(robot_diagram, arm_left_index, arm_right_index, gripper_left_index, gripper_right_index, meshcat)"
   ]
  },
  {
   "cell_type": "markdown",
   "metadata": {},
   "source": [
    "### 1.2 Dual arm `SceneGraphCollisionChecker` 💥💥\n",
    "\n",
    "The only diffrence when making a `SceneGraphCollisionChecker` for dual arm is you need to provide it additional `ModelInstanceIndex`s.  "
   ]
  },
  {
   "cell_type": "code",
   "execution_count": null,
   "metadata": {},
   "outputs": [],
   "source": [
    "collision_checker = SceneGraphCollisionChecker(\n",
    "    model=scene.robot_diagram,\n",
    "    robot_model_instances=[\n",
    "        scene.arm_left_index,\n",
    "        scene.arm_right_index,\n",
    "        scene.gripper_left_index,\n",
    "        scene.gripper_right_index,\n",
    "    ],\n",
    "    edge_step_size=0.125,  # Arbitrary value: we don't use the CheckEdgeCollisionFree\n",
    "    env_collision_padding=0.005,\n",
    "    self_collision_padding=0.005,\n",
    ")"
   ]
  },
  {
   "cell_type": "code",
   "execution_count": null,
   "metadata": {},
   "outputs": [],
   "source": [
    "scene.robot_diagram.plant().num_positions()"
   ]
  },
  {
   "cell_type": "code",
   "execution_count": null,
   "metadata": {},
   "outputs": [],
   "source": [
    "collision_checker.CheckConfigCollisionFree(np.zeros(12))"
   ]
  },
  {
   "cell_type": "code",
   "execution_count": null,
   "metadata": {},
   "outputs": [],
   "source": [
    "home_joints_left = np.deg2rad([180, -120, 60, -30, -90, -90])\n",
    "home_joints_right = np.deg2rad([-180, -60, -60, -150, 90, 90])\n",
    "\n",
    "home_joints = np.concatenate([home_joints_left, home_joints_right])\n",
    "\n",
    "collision_checker.CheckConfigCollisionFree(home_joints)"
   ]
  },
  {
   "cell_type": "code",
   "execution_count": null,
   "metadata": {},
   "outputs": [],
   "source": [
    "plant = scene.robot_diagram.plant()\n",
    "plant_context = plant.GetMyContextFromRoot(context)\n",
    " \n",
    "plant.SetPositions(plant_context, home_joints)\n",
    "scene.robot_diagram.ForcedPublish(context) # updates the meshcat visualization"
   ]
  },
  {
   "cell_type": "markdown",
   "metadata": {},
   "source": [
    "### 1.3 Inverse kinematics for both arms 🧮🧮\n",
    "We will wrap the individual IK functions to express TCP poses in a common world frame."
   ]
  },
  {
   "cell_type": "code",
   "execution_count": null,
   "metadata": {},
   "outputs": [],
   "source": [
    "from functools import partial\n",
    "from airo_typing import HomogeneousMatrixType, JointConfigurationType\n",
    "from airo_drake import X_URBASE_ROSBASE\n",
    "from ur_analytic_ik import ur5e\n",
    "\n",
    "tcp_transform = np.identity(4)\n",
    "tcp_transform[2, 3] = 0.175\n",
    "\n",
    "def inverse_kinematics_in_world_fn(\n",
    "    tcp_pose: HomogeneousMatrixType, X_W_CB: HomogeneousMatrixType\n",
    ") -> list[JointConfigurationType]:\n",
    "    X_W_TCP = tcp_pose\n",
    "    X_CB_W = np.linalg.inv(X_W_CB)\n",
    "    solutions_1x6 = ur5e.inverse_kinematics_with_tcp(X_CB_W @ X_W_TCP, tcp_transform)\n",
    "    solutions = [solution.squeeze() for solution in solutions_1x6]\n",
    "    return solutions\n",
    "\n",
    "# This conversion is needed because the URDFs use the ROS base frame convention:\n",
    "X_CB_B = X_URBASE_ROSBASE\n",
    "X_W_LCB = X_W_L.GetAsMatrix4() @ np.linalg.inv(X_CB_B.GetAsMatrix4())\n",
    "X_W_RCB = X_W_R.GetAsMatrix4() @ np.linalg.inv(X_CB_B.GetAsMatrix4())\n",
    "\n",
    "inverse_kinematics_left_fn = partial(inverse_kinematics_in_world_fn, X_W_CB=X_W_LCB)\n",
    "inverse_kinematics_right_fn = partial(inverse_kinematics_in_world_fn, X_W_CB=X_W_RCB)"
   ]
  },
  {
   "cell_type": "markdown",
   "metadata": {},
   "source": [
    "### 1.4 `DualArmOmplPlanner` 🧭"
   ]
  },
  {
   "cell_type": "code",
   "execution_count": null,
   "metadata": {},
   "outputs": [],
   "source": [
    "from airo_planner import DualArmOmplPlanner\n",
    "\n",
    "joint_bounds_lower = np.deg2rad([-360, -180, -160, -360, -360, -360])\n",
    "joint_bounds_upper = np.deg2rad([360, 0, 160, 360, 360, 360])\n",
    "joint_bounds = (joint_bounds_lower, joint_bounds_upper)\n",
    "\n",
    "\n",
    "planner = DualArmOmplPlanner(\n",
    "    is_state_valid_fn=collision_checker.CheckConfigCollisionFree,\n",
    "    inverse_kinematics_left_fn=inverse_kinematics_left_fn,\n",
    "    inverse_kinematics_right_fn=inverse_kinematics_right_fn,\n",
    "    joint_bounds_left=joint_bounds,\n",
    "    joint_bounds_right=joint_bounds,\n",
    ")"
   ]
  },
  {
   "cell_type": "markdown",
   "metadata": {},
   "source": [
    "We use the terms \"left\" and \"right\" for the two arms, note that you can choose yourself which arm is which, however you must take care to be consistent which arms configuration is first and which is second in the `is_state_valid_fn`. We recommend for simplificity to choose as left arm the arm that also appear on the left side of image from the robot's primary camera, as this is how an egocentric robot would name its arms.\n",
    "\n",
    "The API for dual arm motion planning is very similar to the single arm API, expect that you can supply two joint configurations or two tcp poses instead of one. "
   ]
  },
  {
   "cell_type": "markdown",
   "metadata": {},
   "source": [
    "## 2. Scenarios 🖼️\n",
    "\n",
    "In this section we demonstrate the `airo-planner` API by going over the main Cloth Competition use cases.\n",
    "\n",
    "TODO:\n",
    "- scene without cloth obstacle go home\n",
    "- scene grasp highest (plan to single TCP pose)\n",
    "- scene with cloth obstacle grasp single arm and filter -> pregrasp no collision, grasp can collide\n",
    "- scene go to stretch poses (plan to dual TCP poses)"
   ]
  },
  {
   "cell_type": "markdown",
   "metadata": {},
   "source": [
    "### 2.1 Joints to joints (🦾,🦾) -> (🦾,🦾)"
   ]
  },
  {
   "cell_type": "code",
   "execution_count": null,
   "metadata": {},
   "outputs": [],
   "source": [
    "tangled_joints_left = np.deg2rad([0, -90, -90, -90, 90, 0])\n",
    "tangled_joints_right = np.deg2rad([-136, -116, -110, -133, 40, 0])\n",
    "tangled_joints = np.concatenate([tangled_joints_left, tangled_joints_right])\n",
    "\n",
    "plant.SetPositions(plant_context, tangled_joints)\n",
    "scene.robot_diagram.ForcedPublish(context) # updates the meshcat visualization"
   ]
  },
  {
   "cell_type": "code",
   "execution_count": null,
   "metadata": {},
   "outputs": [],
   "source": [
    "path = planner.plan_to_joint_configuration(tangled_joints_left, tangled_joints_right, home_joints_left, home_joints_right)\n",
    "print(path.shape)"
   ]
  },
  {
   "cell_type": "code",
   "execution_count": null,
   "metadata": {},
   "outputs": [],
   "source": [
    "from airo_drake import time_parametrize_toppra, animate_dual_joint_trajectory\n",
    "\n",
    "trajectory = time_parametrize_toppra(scene.robot_diagram.plant(), path)\n",
    "\n",
    "animate_dual_joint_trajectory(scene.meshcat, scene.robot_diagram, scene.arm_left_index, scene.arm_right_index, trajectory)"
   ]
  },
  {
   "cell_type": "markdown",
   "metadata": {},
   "source": [
    "### 2.2 Joints to single arm joints (🦾,🦾) -> (🦾,💤)\n",
    "\n",
    "Note that you are allow to set one of the goals to `None` to indicate that that arm should not move."
   ]
  },
  {
   "cell_type": "code",
   "execution_count": null,
   "metadata": {},
   "outputs": [],
   "source": [
    "path = planner.plan_to_joint_configuration(tangled_joints_left, tangled_joints_right, home_joints_left, None)"
   ]
  },
  {
   "cell_type": "code",
   "execution_count": null,
   "metadata": {},
   "outputs": [],
   "source": [
    "trajectory = time_parametrize_toppra(scene.robot_diagram.plant(), path)\n",
    "animate_dual_joint_trajectory(scene.meshcat, scene.robot_diagram, scene.arm_left_index, scene.arm_right_index, trajectory)"
   ]
  },
  {
   "cell_type": "markdown",
   "metadata": {},
   "source": [
    "### 2.3 Joints to single TCP pose  (🦾,🦾) -> (💤,📐)"
   ]
  },
  {
   "cell_type": "code",
   "execution_count": null,
   "metadata": {},
   "outputs": [],
   "source": [
    "from airo_drake import animate_joint_configurations\n",
    "\n",
    "grasp_pose = np.identity(4)\n",
    "grasp_pose[2, 3] = 0.4\n",
    "\n",
    "grasp_joints = inverse_kinematics_right_fn(grasp_pose)\n",
    "\n",
    "animate_joint_configurations(scene.meshcat, scene.robot_diagram, scene.arm_right_index, grasp_joints, context=context)"
   ]
  },
  {
   "cell_type": "code",
   "execution_count": null,
   "metadata": {},
   "outputs": [],
   "source": [
    "path = planner.plan_to_tcp_pose(tangled_joints_left, tangled_joints_right, None, grasp_pose)"
   ]
  },
  {
   "cell_type": "code",
   "execution_count": null,
   "metadata": {},
   "outputs": [],
   "source": []
  }
 ],
 "metadata": {
  "kernelspec": {
   "display_name": "cloth-competition-dev",
   "language": "python",
   "name": "python3"
  },
  "language_info": {
   "codemirror_mode": {
    "name": "ipython",
    "version": 3
   },
   "file_extension": ".py",
   "mimetype": "text/x-python",
   "name": "python",
   "nbconvert_exporter": "python",
   "pygments_lexer": "ipython3",
   "version": "3.10.13"
  }
 },
 "nbformat": 4,
 "nbformat_minor": 2
}
