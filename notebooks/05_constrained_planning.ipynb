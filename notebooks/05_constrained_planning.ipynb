{
 "cells": [
  {
   "cell_type": "markdown",
   "metadata": {},
   "source": [
    "# Constrained planning ⛓️\n",
    "\n",
    "This notebook illustrates how to use constraints with airo-planner. The API does not currently support constraints, but since all underlying OMPL objects are accessible, we can seamlessly use [OMPL's constrained planning API](https://ompl.kavrakilab.org/constrainedPlanning.html).\n",
    "Constrained planning is useful when, e.g., we want to keep a cup level, or keep the end-effector in a plane, etc.\n",
    "\n",
    "## Theory and terminology\n",
    "\n",
    "- We call the robot configuration space (also called the ambient space) $Q$\n",
    "- The space $Q_{free} \\subset Q$ is free of collisions\n",
    "- The constraint function $F(q)$ maps the configuration space to a real-valued vector $x \\in \\mathrm{R}^n$, $F:Q\\rightarrow\\mathrm{R}^n$\n",
    "- We consider the constraint satisfied when $F(q) = 0$\n",
    "- The space $X \\subset Q$ consists of the configurations that satisfy the constraint: $X = \\{ q \\in \\mathcal{Q} \\mid F(q) = 0 \\}$\n",
    "\n",
    "## Important remark\n",
    "\n",
    "Currently, OMPL's pre-built wheels break constrained planning: https://github.com/ompl/ompl/issues/1228"
   ]
  },
  {
   "cell_type": "markdown",
   "metadata": {},
   "source": [
    "## 1. Setup 🏗️️\n",
    "\n",
    "### 1.1 Building our scene 🏠\n",
    "\n",
    "We will create a scene with a UR3e arm and an obstacle that the arm needs to pass.\n",
    "The constraint will be that the TCP must remain in a top down orientation at all times."
   ]
  },
  {
   "cell_type": "code",
   "execution_count": null,
   "metadata": {},
   "outputs": [],
   "source": [
    "import numpy as np\n",
    "from airo_drake import SingleArmScene, add_floor, add_manipulator, add_meshcat, finish_build, animate_joint_trajectory, \\\n",
    "    time_parametrize_toppra, visualize_frame, add_wall\n",
    "from airo_planner import SingleArmOmplPlanner, function_to_ompl, uniform_symmetric_joint_bounds\n",
    "from airo_typing import HomogeneousMatrixType, JointConfigurationType\n",
    "from ompl import base as ob\n",
    "from ompl import geometric as og\n",
    "from pydrake.planning import RobotDiagramBuilder, SceneGraphCollisionChecker\n",
    "from ur_analytic_ik_ext import ur3e"
   ]
  },
  {
   "cell_type": "code",
   "execution_count": null,
   "metadata": {},
   "outputs": [],
   "source": [
    "DOF = 6\n",
    "START_JOINTS = np.deg2rad([0, -90, 90, -90, -90, 0])\n",
    "GOAL_JOINTS = np.array([2.32027433, -1.56661515, 1.58208421, -1.58626538, -1.57079633, -0.82131832])"
   ]
  },
  {
   "cell_type": "code",
   "execution_count": null,
   "metadata": {},
   "outputs": [],
   "source": [
    "def build_scene() -> SingleArmScene:\n",
    "    robot_diagram_builder = RobotDiagramBuilder()\n",
    "\n",
    "    meshcat = add_meshcat(robot_diagram_builder)\n",
    "    arm_index, gripper_index = add_manipulator(robot_diagram_builder, \"ur3e\", \"robotiq_2f_85\", static_gripper=True)\n",
    "    add_floor(robot_diagram_builder)\n",
    "    add_wall(robot_diagram_builder, \"YZ\", 0.2, 0.1, 0.05, np.array([0.0, -0.3, 0.1]))\n",
    "    robot_diagram, context = finish_build(robot_diagram_builder)\n",
    "\n",
    "    scene = SingleArmScene(robot_diagram, arm_index, gripper_index, meshcat)\n",
    "\n",
    "    visualize_frame(scene.meshcat, \"goal_pose\", ur3e.forward_kinematics(*GOAL_JOINTS.tolist()))\n",
    "\n",
    "    collision_checker = SceneGraphCollisionChecker(\n",
    "        model=scene.robot_diagram,\n",
    "        robot_model_instances=[scene.arm_index, scene.gripper_index],\n",
    "        edge_step_size=0.125,  # Arbitrary value: we don't use the CheckEdgeCollisionFree\n",
    "        env_collision_padding=0.005,\n",
    "        self_collision_padding=0.005,\n",
    "    )\n",
    "\n",
    "    plant = scene.robot_diagram.plant()\n",
    "    plant_context = plant.GetMyContextFromRoot(context)\n",
    "    plant.SetPositions(plant_context, scene.arm_index, START_JOINTS)\n",
    "    scene.robot_diagram.ForcedPublish(context)\n",
    "\n",
    "    return scene, collision_checker"
   ]
  },
  {
   "cell_type": "code",
   "execution_count": null,
   "metadata": {},
   "outputs": [],
   "source": [
    "def inverse_kinematics_fn(tcp_pose: HomogeneousMatrixType) -> list[JointConfigurationType]:\n",
    "    solutions = ur3e.inverse_kinematics(tcp_pose)\n",
    "    solutions = [solution.squeeze() for solution in solutions]\n",
    "    return solutions"
   ]
  },
  {
   "cell_type": "markdown",
   "metadata": {},
   "source": [
    "## 1.2 Unconstrained planning 🐋\n",
    "\n",
    "Let's see how the robot arm moves around the obstacle when the end-effector orientation is not constrained."
   ]
  },
  {
   "cell_type": "code",
   "execution_count": null,
   "metadata": {},
   "outputs": [],
   "source": [
    "scene, collision_checker = build_scene()\n",
    "\n",
    "planner = SingleArmOmplPlanner(collision_checker.CheckConfigCollisionFree, inverse_kinematics_fn=inverse_kinematics_fn)\n",
    "\n",
    "path = planner.plan_to_joint_configuration(START_JOINTS, GOAL_JOINTS)\n",
    "\n",
    "trajectory = time_parametrize_toppra(scene.robot_diagram.plant(), path)\n",
    "\n",
    "animate_joint_trajectory(scene.meshcat, scene.robot_diagram, scene.arm_index, trajectory)"
   ]
  },
  {
   "cell_type": "markdown",
   "metadata": {},
   "source": [
    "## 1.3 Constrained planning 🔗\n",
    "\n",
    "### 1.3.1 Defining the constraint 🔒\n",
    "\n",
    "As mentioned earlier, the constraint should be that the end-effector points downwards throughout the entire path.\n",
    "We defined a constraint to be a function $F:Q\\rightarrow\\mathrm{R}^n$, and $F(q)=0$ when the constraint is satisfied.\n",
    "$F$ should in general be continuous and differentiable."
   ]
  },
  {
   "cell_type": "code",
   "execution_count": null,
   "metadata": {},
   "outputs": [],
   "source": [
    "class TCPConstraint(ob.Constraint):\n",
    "    def __init__(self):\n",
    "        super(TCPConstraint, self).__init__(DOF, 1)\n",
    "\n",
    "    def function(self, x, out):\n",
    "        eef_pose = ur3e.forward_kinematics(*x.tolist())\n",
    "        dotprod = eef_pose[:3, 2].dot(np.array([0., 0., -1.]))\n",
    "        out[0] = 1.0 - dotprod\n",
    "\n",
    "    # You can optionally also implement the jacobian as an optimization."
   ]
  },
  {
   "cell_type": "code",
   "execution_count": null,
   "metadata": {},
   "outputs": [],
   "source": [
    "def bounds_to_ompl(joint_bounds) -> ob.RealVectorBounds:\n",
    "    degrees_of_freedom = len(joint_bounds[0])\n",
    "    bounds = ob.RealVectorBounds(degrees_of_freedom)\n",
    "    joint_bounds_lower = joint_bounds[0]\n",
    "    joint_bounds_upper = joint_bounds[1]\n",
    "    for i in range(degrees_of_freedom):\n",
    "        bounds.setLow(i, joint_bounds_lower[i])\n",
    "        bounds.setHigh(i, joint_bounds_upper[i])\n",
    "    return bounds\n",
    "\n",
    "def _state_to_ompl(state_numpy: np.ndarray, space: ob.StateSpace) -> ob.State:\n",
    "    state = ob.State(space)\n",
    "    for i in range(len(state_numpy)):\n",
    "        state()[i] = state_numpy[i]\n",
    "    return state\n",
    "\n",
    "\n",
    "def _state_from_ompl(state: ob.State, n: int) -> np.ndarray:\n",
    "    return np.array([state[i] for i in range(n)])\n",
    "\n",
    "def _get_space():\n",
    "    space = ob.RealVectorStateSpace(DOF)\n",
    "    space.setBounds(bounds_to_ompl(uniform_symmetric_joint_bounds(6)))\n",
    "    return space\n",
    "\n",
    "space = _get_space()\n",
    "constraint = TCPConstraint()\n",
    "constraint_tolerance = 0.05\n",
    "constraint.setTolerance(constraint_tolerance)"
   ]
  },
  {
   "cell_type": "markdown",
   "metadata": {},
   "source": [
    "### 1.3.2 Constrained planning and sampling-based motion planning algorithms 🏃\n",
    "\n",
    "In this example, we will use a projection operator to project sampled configurations onto the manifold where the constraint is satisfied."
   ]
  },
  {
   "cell_type": "code",
   "execution_count": null,
   "metadata": {},
   "outputs": [],
   "source": [
    "css = ob.ProjectedStateSpace(space, constraint)\n",
    "csi = ob.ConstrainedSpaceInformation(css)\n",
    "\n",
    "delta = ob.CONSTRAINED_STATE_SPACE_DELTA\n",
    "lambda_ = ob.CONSTRAINED_STATE_SPACE_LAMBDA\n",
    "css.setup()\n",
    "css.setDelta(delta)\n",
    "css.setLambda(lambda_)\n",
    "simple_setup = og.SimpleSetup(csi)\n",
    "\n",
    "planner = og.RRTConnect(simple_setup.getSpaceInformation())\n",
    "simple_setup.setPlanner(planner)\n",
    "\n",
    "is_state_valid_fn = function_to_ompl(collision_checker.CheckConfigCollisionFree, DOF)\n",
    "simple_setup.setStateValidityChecker(ob.StateValidityCheckerFn(is_state_valid_fn))\n",
    "simple_setup.setOptimizationObjective(ob.PathLengthOptimizationObjective(simple_setup.getSpaceInformation()))\n",
    "step = float(np.deg2rad(5))\n",
    "resolution = step / space.getMaximumExtent()\n",
    "simple_setup.getSpaceInformation().setStateValidityCheckingResolution(resolution)"
   ]
  },
  {
   "cell_type": "markdown",
   "metadata": {},
   "source": [
    "### 1.3.2 Implementing constrained planning with OMPL's Python API ⚙️"
   ]
  },
  {
   "cell_type": "code",
   "execution_count": null,
   "metadata": {},
   "outputs": [],
   "source": [
    "scene, collision_checker = build_scene()\n",
    "\n",
    "goal_pose = np.array([[0.0, -1.0, 0.0, 0.30],\n",
    "                          [-1.0, 0.0, 0.0, -0.13],\n",
    "                          [0.0, 0.0, -1.0, 0.30],\n",
    "                          [0.0, 0.0, 0.0, 1.0]])\n",
    "visualize_frame(scene.meshcat, \"goal_pose\", goal_pose)\n",
    "# input(\"Goal pose frame is now shown.\")\n",
    "goal_joints_solutions = inverse_kinematics_fn(goal_pose)\n",
    "print(\"Found\", len(goal_joints_solutions), \"solutions.\")\n",
    "\n",
    "goal_joints_solutions = [solution for solution in goal_joints_solutions if\n",
    "                         collision_checker.CheckConfigCollisionFree(solution)]\n",
    "print(\"Found\", len(goal_joints_solutions), \"solutions that are not in collision.\")\n",
    "\n",
    "print(\"Checking constraint function values for goal poses (0 = satisfies constraints).\")\n",
    "for goal_joints in goal_joints_solutions:\n",
    "    out = np.empty(1)\n",
    "    constraint.function(goal_joints, out)\n",
    "    print(goal_joints, out, \"✅\" if out[0] < constraint_tolerance else \"💥\")\n",
    "\n",
    "for goal_joints in goal_joints_solutions:\n",
    "    simple_setup.clear()\n",
    "    space = simple_setup.getStateSpace()\n",
    "    start_state = _state_to_ompl(START_JOINTS, space)\n",
    "    goal_state = _state_to_ompl(goal_joints, space)\n",
    "    simple_setup.setStartAndGoalStates(start_state, goal_state)\n",
    "\n",
    "    simple_setup.solve(5.0)\n",
    "\n",
    "    if not simple_setup.haveExactSolutionPath():\n",
    "        print(\"No exact solution found.\")\n",
    "        continue\n",
    "\n",
    "    # Simplify and smooth the path, note that this conserves path validity\n",
    "    simple_setup.simplifySolution()\n",
    "    path_simplifier = og.PathSimplifier(simple_setup.getSpaceInformation())\n",
    "    path = simple_setup.getSolutionPath()\n",
    "    path_simplifier.smoothBSpline(path)\n",
    "\n",
    "    # Extract path\n",
    "    path = np.array([_state_from_ompl(path.getState(i), DOF) for i in range(path.getStateCount())])\n",
    "\n",
    "    trajectory = time_parametrize_toppra(scene.robot_diagram.plant(), path)\n",
    "\n",
    "    animate_joint_trajectory(scene.meshcat, scene.robot_diagram, scene.arm_index, trajectory)"
   ]
  },
  {
   "cell_type": "code",
   "execution_count": null,
   "metadata": {},
   "outputs": [],
   "source": []
  }
 ],
 "metadata": {
  "kernelspec": {
   "display_name": "Python 3 (ipykernel)",
   "language": "python",
   "name": "python3"
  },
  "language_info": {
   "codemirror_mode": {
    "name": "ipython",
    "version": 3
   },
   "file_extension": ".py",
   "mimetype": "text/x-python",
   "name": "python",
   "nbconvert_exporter": "python",
   "pygments_lexer": "ipython3",
   "version": "3.10.12"
  }
 },
 "nbformat": 4,
 "nbformat_minor": 4
}
