{
 "cells": [
  {
   "cell_type": "markdown",
   "metadata": {},
   "source": [
    "# Planning to TCP Poses 📐\n",
    "\n",
    "In the previous notebook we saw how to plan paths between joint configurations.\n",
    "In this notebook we will explore how planning to TCP poses opens doors to many interesting possibilities, such as:\n",
    "- 💥 **Filtering** e.g. pregrasp configurations to ensure moving the the grasp pose does not collide with the environment\n",
    "- 🥇 **Selecting** optimal paths, e.g. the shortest, smoothest, fastest after time parametrization or most clearance\n",
    "- 📊 **Ranking** goal joint configurations and planning to them iteratively, selecting the first path that is found. This ranking could be based on the distance of the goal joint configuration to the a desirable joint configuration, e.g the start joint configuration.\n",
    "\n",
    "**The 4-Step Process**\n",
    "\n",
    "Let's break down how we approach TCP pose planning:\n",
    "1. 🧮 **IK Solutions:** Calculate candidate goal joint configurations from the goal TCP pose.\n",
    "2. 🤔 **Rank & Prioritize (Optional):** Rank those candidates\n",
    "3. 🗺️ **Plan Paths:** Try planning paths to the candidates.\n",
    "4. 🏆 **Select the Best (Optional):** Choose the optimal path based on your criteria.\n",
    "\n",
    "\n",
    "\n",
    "<!-- **Why Planning to TCP Poses Matters**\n",
    "\n",
    "- ✨ **Flexibility:** A single TCP pose often corresponds to multiple possible joint configurations for a 6-DOF robot.\n",
    "- 💡 **Strategic choices:** This opens doors! We can filter pre-grasp configurations for collision-free grasps, optimize paths based on smoothness or speed, and more.\n",
    "\n",
    "\n",
    "However, in this notebook we will show how planning to TCP poses opens interesting opportunities.\n",
    "\n",
    "A key fact to know, is that for a given TCP pose in the workspace of a 6-DOF robot, there will be several joint configurations that can achieve that pose. \n",
    "For some robots, such as the universal robots we use at our lab, you can analytically calculate the inverse kinematics to find all the joint configurations that can achieve a given TCP pose.\n",
    "\n",
    "This finite set of possible goal configurations provide an interesting opportunity.\n",
    "For example, if the TCP pose we plan to is a pregrasp pose from which we want to move linearly to a grasp pose, we can filter the pregrasp joint configurations to only select the from which we can move to the grasp pose without colliding with the environment.\n",
    "\n",
    "Another possiblity with multiple joint configurations is that we can plan paths to each of them and then select the best path according to some criteria. For example, we might want to select the shortest path, or the smoothest path, or the path that can be executed the fastest after time parametrization.\n",
    "\n",
    "However, if any path is good enough, and we care mostly about planning time, we can rank the goal joint configurations, and plan to them iteratively, and select the first path that is found. This ranking could for example be based on the distance goal joint configuration to the a desirable joint configuration .e.g the start joint configuration.\n",
    "\n",
    "\n",
    "The way we achieve planning to TCP poses is by using a four-step process:\n",
    "1. Calculate the inverse kinematics of the goal TCP pose to find the candidate goal joint configurations.\n",
    "2. Optional: rank the goal joint configurations\n",
    "3. Attempt to plan a path to the goal joint configuration(s)\n",
    "4. Optional: select the best path -->"
   ]
  },
  {
   "cell_type": "markdown",
   "metadata": {},
   "source": [
    "## 1. Setting up the scene & collision checker 🏗️️\n",
    "\n",
    "For more details about this, see the [`airo-drake`](https://github.com/airo-ugent/airo-drake) notebooks.\n"
   ]
  },
  {
   "cell_type": "code",
   "execution_count": null,
   "metadata": {},
   "outputs": [],
   "source": [
    "import numpy as np\n",
    "from pydrake.planning import RobotDiagramBuilder\n",
    "from airo_drake import SingleArmScene, add_floor, add_manipulator, add_meshcat, finish_build\n",
    "from pydrake.planning import SceneGraphCollisionChecker\n",
    "\n",
    "robot_diagram_builder = RobotDiagramBuilder()\n",
    "\n",
    "meshcat = add_meshcat(robot_diagram_builder)\n",
    "arm_index, gripper_index = add_manipulator(robot_diagram_builder, \"ur3e\", \"robotiq_2f_85\", static_gripper=True)\n",
    "add_floor(robot_diagram_builder)\n",
    "robot_diagram, context = finish_build(robot_diagram_builder)\n",
    "\n",
    "scene = SingleArmScene(robot_diagram, arm_index, gripper_index, meshcat)\n",
    "\n",
    "\n",
    "collision_checker = SceneGraphCollisionChecker(\n",
    "    model=scene.robot_diagram,\n",
    "    robot_model_instances=[scene.arm_index, scene.gripper_index],\n",
    "    edge_step_size=0.125,  # Arbitrary value: we don't use the CheckEdgeCollisionFree\n",
    "    env_collision_padding=0.005,\n",
    "    self_collision_padding=0.005,\n",
    ")\n",
    "\n",
    "collision_checker.CheckConfigCollisionFree(np.zeros(6))"
   ]
  },
  {
   "cell_type": "code",
   "execution_count": null,
   "metadata": {},
   "outputs": [],
   "source": [
    "start_joints = np.deg2rad([0, -90, 90, -90, -90, 0])\n",
    "\n",
    "print(collision_checker.CheckConfigCollisionFree(start_joints))\n",
    "\n",
    "plant = scene.robot_diagram.plant()\n",
    "plant_context = plant.GetMyContextFromRoot(context)\n",
    "plant.SetPositions(plant_context, scene.arm_index, start_joints)\n",
    "scene.robot_diagram.ForcedPublish(context)"
   ]
  },
  {
   "cell_type": "markdown",
   "metadata": {},
   "source": [
    "## 2. Creating the motion planner 🧭\n",
    "\n",
    "To enable planning to TCP poses, we need to provide an additional argument to the `SingleArmOmplPlanner` constructor, namely an `inverse_kinematics_fn` that returns a list of joint configurations for a given TCP pose.\n",
    "\n",
    "### 2.1 `inverse_kinematics_fn` 🧮\n",
    "In this notebook we will be using the analytical inverse kinematics from the [`ur-analytic-ik`](https://github.com/Victorlouisdg/ur-analytic-ik) Python package."
   ]
  },
  {
   "cell_type": "code",
   "execution_count": null,
   "metadata": {},
   "outputs": [],
   "source": [
    "from ur_analytic_ik import ur3e\n",
    "from airo_typing import HomogeneousMatrixType, JointConfigurationType\n",
    "from airo_drake import visualize_frame\n",
    "\n",
    "tcp_transform = np.identity(4)\n",
    "tcp_transform[2, 3] = 0.175  # 175 mm in z\n",
    "\n",
    "\n",
    "def inverse_kinematics_fn(tcp_pose: HomogeneousMatrixType) -> list[JointConfigurationType]:\n",
    "    solutions = ur3e.inverse_kinematics_with_tcp(tcp_pose, tcp_transform)\n",
    "    return solutions\n",
    "\n",
    "\n",
    "goal_pose = np.identity(4)\n",
    "\n",
    "X = np.array([-1.0, 0.0, 0.0])\n",
    "Y = np.array([0.0, 1.0, 0.0])\n",
    "Z = np.array([0.0, 0.0, -1.0])\n",
    "top_down_orientation = np.column_stack([X, Y, Z])\n",
    "goal_pose[:3, :3] = top_down_orientation\n",
    "goal_pose[:3, 3] = [0.17, 0.0, 0.0]\n",
    "\n",
    "visualize_frame(scene.meshcat, \"goal_pose\", goal_pose)\n",
    "\n",
    "solutions = inverse_kinematics_fn(goal_pose)\n",
    "\n",
    "with np.printoptions(precision=3, suppress=True):\n",
    "    for solution in solutions:\n",
    "        print(solution)\n"
   ]
  },
  {
   "cell_type": "code",
   "execution_count": null,
   "metadata": {},
   "outputs": [],
   "source": [
    "from airo_drake import animate_joint_configurations\n",
    "\n",
    "animate_joint_configurations(scene.meshcat, scene.robot_diagram, scene.arm_index, solutions)"
   ]
  },
  {
   "cell_type": "markdown",
   "metadata": {},
   "source": [
    "### 2.2 `SingleArmOmplPlanner` 🧭"
   ]
  },
  {
   "cell_type": "code",
   "execution_count": null,
   "metadata": {},
   "outputs": [],
   "source": [
    "from airo_planner import SingleArmOmplPlanner\n",
    "\n",
    "\n",
    "planner = SingleArmOmplPlanner(collision_checker.CheckConfigCollisionFree, inverse_kinematics_fn=inverse_kinematics_fn)"
   ]
  },
  {
   "cell_type": "markdown",
   "metadata": {},
   "source": [
    "## 3. Planning to TCP poses 🗺\n",
    "\n",
    "### 3.1 Choosing the shortest path 📏\n",
    "\n",
    "The default behavior of `SingleArmOmplPlanner`  is planning to all valid goal joint configurations and selecting the shortest path."
   ]
  },
  {
   "cell_type": "code",
   "execution_count": null,
   "metadata": {},
   "outputs": [],
   "source": [
    "path = planner.plan_to_tcp_pose(start_joints, goal_pose)"
   ]
  },
  {
   "cell_type": "code",
   "execution_count": null,
   "metadata": {},
   "outputs": [],
   "source": [
    "animate_joint_configurations(scene.meshcat, scene.robot_diagram, scene.arm_index, path)"
   ]
  },
  {
   "cell_type": "markdown",
   "metadata": {},
   "source": [
    "**Double checking the path lengths:**"
   ]
  },
  {
   "cell_type": "code",
   "execution_count": null,
   "metadata": {},
   "outputs": [],
   "source": [
    "from airo_drake import calculate_joint_path_length\n",
    "\n",
    "path_lengths = [calculate_joint_path_length(p) for p in planner._all_paths]\n",
    "\n",
    "print(\"Path lengths\")\n",
    "for i, path_length in enumerate(path_lengths):\n",
    "    print(f\"{i}: {path_length:.2f}\")\n",
    "\n",
    "print(f\"\\nLength of path that planner returned: {calculate_joint_path_length(path):.2f}\")"
   ]
  },
  {
   "cell_type": "markdown",
   "metadata": {},
   "source": [
    "### 3.2 Ranking goal configuration desirability 🔀\n",
    "\n",
    "It's common to prefer that the robot arm stays close specific desirable configurations, such as:\n",
    "- the start joint configuration 🏁\n",
    "- a home configuration 🏡\n",
    "\n",
    "We let the planner know these goal configuration preferences by setting the:\n",
    "- `rank_goal_configurations_fn` attribute of the `SingleArmOmplPlanner`.\n",
    "\n",
    "In `airo-planner` we provide a `rank_by_distance_to_desirable_configurations()` function that we can use for this purpose."
   ]
  },
  {
   "cell_type": "code",
   "execution_count": null,
   "metadata": {},
   "outputs": [],
   "source": [
    "from airo_planner.selection.goal_selection import rank_by_distance_to_desirable_configurations\n",
    "\n",
    "ranked_solutions = rank_by_distance_to_desirable_configurations(solutions, [start_joints])\n",
    "\n",
    "np.printoptions(precision=3, suppress=True)\n",
    "\n",
    "print(\"Distances to ranked solutions\")\n",
    "for i, solution in enumerate(ranked_solutions):\n",
    "    distance = np.linalg.norm(solution - start_joints)\n",
    "    print(f\"{distance:.2f}\")"
   ]
  },
  {
   "cell_type": "code",
   "execution_count": null,
   "metadata": {},
   "outputs": [],
   "source": [
    "planner.rank_goal_configurations_fn = rank_by_distance_to_desirable_configurations\n",
    "\n",
    "path = planner.plan_to_tcp_pose(start_joints, goal_pose)"
   ]
  },
  {
   "cell_type": "code",
   "execution_count": null,
   "metadata": {},
   "outputs": [],
   "source": [
    "print(f\"\\nLength of path that planner returned: {calculate_joint_path_length(path):.2f}\")"
   ]
  },
  {
   "cell_type": "code",
   "execution_count": null,
   "metadata": {},
   "outputs": [],
   "source": [
    "valid_sampler = planner._simple_setup.getSpaceInformation().allocValidStateSampler()\n",
    "valid_sampler"
   ]
  },
  {
   "cell_type": "code",
   "execution_count": null,
   "metadata": {},
   "outputs": [],
   "source": [
    "from ompl import base as ob\n",
    "from ompl import util as ou\n",
    "from loguru import logger\n",
    "\n",
    "class DeterministicValidStateSampler(ob.ValidStateSampler):\n",
    "    def __init__(self, space_information: ob.SpaceInformation, random_seed: int = 1):\n",
    "        logger.info(\"Creating DeterministicValidStateSampler\")\n",
    "        super(DeterministicValidStateSampler, self).__init__(space_information)\n",
    "        self.rng_ = ou.RNG(random_seed)\n",
    "\n",
    "\n",
    "def allocDeterministicValidStateSampler(space_information: ob.SpaceInformation) -> ob.ValidStateSampler:\n",
    "    logger.info(\"Allocating DeterministicValidStateSampler\")\n",
    "    return DeterministicValidStateSampler(space_information)\n",
    "\n",
    "\n",
    "space_information = planner._simple_setup.getSpaceInformation()\n",
    "DeterministicValidStateSampler(space_information)\n",
    "allocDeterministicValidStateSampler(space_information)"
   ]
  },
  {
   "cell_type": "code",
   "execution_count": null,
   "metadata": {},
   "outputs": [],
   "source": [
    "ob.RealVectorDeterministicStateSampler(planner._simple_setup.getStateSpace())"
   ]
  },
  {
   "cell_type": "code",
   "execution_count": null,
   "metadata": {},
   "outputs": [],
   "source": [
    "# def allocDeterministicStateSampler(space: ob.StateSpace) -> ob.StateSampler:\n",
    "#     return ob.RealVectorDeterministicStateSampler(space)\n",
    "\n",
    "# planner._simple_setup.getStateSpace().setStateSamplerAllocator(ob.StateSamplerAllocator(allocDeterministicStateSampler))"
   ]
  },
  {
   "cell_type": "code",
   "execution_count": null,
   "metadata": {},
   "outputs": [],
   "source": [
    "from airo_planner.ompl.utilities import create_simple_setup\n",
    "import ompl.geometric as og\n",
    "\n",
    "planner._simple_setup = create_simple_setup(planner.is_state_valid_fn, planner.joint_bounds)\n",
    "# space_information = planner._simple_setup.getSpaceInformation()\n",
    "# space_information.clearValidStateSamplerAllocator()\n",
    "# space_information.setValidStateSamplerAllocator(ob.ValidStateSamplerAllocator(allocDeterministicValidStateSampler))\n",
    "# space_information.allocValidStateSampler()\n",
    "\n",
    "# rrt_connect = og.RRTConnect(space_information)\n",
    "# planner._simple_setup.setPlanner(rrt_connect)\n",
    "\n",
    "path = planner.plan_to_tcp_pose(start_joints, goal_pose)\n",
    "calculate_joint_path_length(path)"
   ]
  },
  {
   "cell_type": "code",
   "execution_count": null,
   "metadata": {},
   "outputs": [],
   "source": [
    "planner._simple_setup = create_simple_setup(planner.is_state_valid_fn, planner.joint_bounds)\n",
    "# space_information = planner._simple_setup.getSpaceInformation()\n",
    "# space_information.clearValidStateSamplerAllocator()\n",
    "# space_information.setValidStateSamplerAllocator(ob.ValidStateSamplerAllocator(allocDeterministicValidStateSampler))\n",
    "# space_information.allocValidStateSampler()\n",
    "\n",
    "# rrt_connect = og.RRTConnect(space_information)\n",
    "# planner._simple_setup.setPlanner(rrt_connect)\n",
    "\n",
    "path = planner.plan_to_tcp_pose(start_joints, goal_pose)\n",
    "calculate_joint_path_length(path)"
   ]
  },
  {
   "cell_type": "markdown",
   "metadata": {},
   "source": [
    "## 3.3 Filtering goal configurations 🧹\n",
    "\n",
    "**Filtering** is possibliy the most powerful feature of planning to TCP poses.\n",
    "By filtering the goal joint configurations, we can ensure that the robot goes to configurations that enable downstream tasks. \n",
    "For example, you want to make sure that end configuration of the path to the pregrasp pose is such that you can move linearly to the grasp pose without colliding with the environment."
   ]
  },
  {
   "cell_type": "code",
   "execution_count": null,
   "metadata": {},
   "outputs": [],
   "source": [
    "from airo_planner.interfaces import SingleArmPlanner\n",
    "from pydrake.trajectories import Trajectory\n",
    "\n",
    "# use this a filtering example: we want to filter out the grasp paths that collide with the environment\n",
    "\n",
    "def plan_to_grasp(planner: SingleArmPlanner, grasp_pose: HomogeneousMatrixType) -> Trajectory:\n",
    "    pass\n",
    "    # attempt planning the the grasp pose directly\n",
    "    #   if all goals in collision try backing-off to a pregrasp pose\n",
    "    #   time parametrize both paths and concatenate them\n",
    "\n"
   ]
  },
  {
   "cell_type": "markdown",
   "metadata": {},
   "source": [
    "Question: what will increase the joint distance the most? adding pi/4 to all joints or np.pi /2 to a single joint? "
   ]
  },
  {
   "cell_type": "markdown",
   "metadata": {},
   "source": []
  }
 ],
 "metadata": {
  "kernelspec": {
   "display_name": "cloth-competition",
   "language": "python",
   "name": "python3"
  },
  "language_info": {
   "codemirror_mode": {
    "name": "ipython",
    "version": 3
   },
   "file_extension": ".py",
   "mimetype": "text/x-python",
   "name": "python",
   "nbconvert_exporter": "python",
   "pygments_lexer": "ipython3",
   "version": "3.10.13"
  }
 },
 "nbformat": 4,
 "nbformat_minor": 2
}
